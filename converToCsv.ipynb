{
 "cells": [
  {
   "cell_type": "markdown",
   "id": "4fd2ad0b-b3fe-453d-916e-12918af070d5",
   "metadata": {},
   "source": [
    "### need to convert the XLS/X files to CSV;\n",
    "- checked with Pandas but get much more time, need to check another methods; "
   ]
  },
  {
   "cell_type": "code",
   "execution_count": 26,
   "id": "8fc3ae69-7914-4bc8-b007-3889d2165009",
   "metadata": {},
   "outputs": [
    {
     "name": "stdout",
     "output_type": "stream",
     "text": [
      "cgi             : INSTALLED ✅\n",
      "sys             : INSTALLED ✅\n",
      "io              : INSTALLED ✅\n",
      "csv             : INSTALLED ✅\n",
      "os              : INSTALLED ✅\n",
      "python_calamine : INSTALLED ✅\n"
     ]
    }
   ],
   "source": [
    "# check if the libraries are available\n",
    "\n",
    "def check_library_availability( required_libraries = []):\n",
    "    results = {}\n",
    "    \n",
    "    for lib in required_libraries:\n",
    "        try:\n",
    "            __import__(lib)\n",
    "            results[lib] = True\n",
    "        except ImportError:\n",
    "            results[lib] = False\n",
    "\n",
    "    max_length = max(len(lib) for lib in required_libraries)\n",
    "    for lib, available in results.items():\n",
    "        status = \"INSTALLED ✅\" if available else \"MISSING ❌\"\n",
    "        print(f\"{lib.ljust(max_length)} : {status}\")\n",
    "        \n",
    "check_library_availability(required_libraries = ['cgi', 'sys', 'io', 'csv', 'os', 'python_calamine'])"
   ]
  },
  {
   "cell_type": "markdown",
   "id": "5f9e04f4-137d-4c0a-80d7-7a370dae01c1",
   "metadata": {},
   "source": [
    "### main XLS convertion logic"
   ]
  },
  {
   "cell_type": "code",
   "execution_count": 34,
   "id": "b3bde48f-acd3-4230-a956-1879a8f4f1c7",
   "metadata": {},
   "outputs": [],
   "source": [
    "import python_calamine\n",
    "\n",
    "def convert_excel_to_csv(input_excel_path: str, output_csv_path: str) -> None:\n",
    "    def is_meaningful_row(row):\n",
    "        return any(cell is not None and str(cell).strip() != \"\" for cell in row)\n",
    "        \n",
    "    with open(input_excel_path, 'rb') as excel_file:\n",
    "        workbook = python_calamine.CalamineWorkbook.from_filelike(excel_file)\n",
    "        sheet = workbook.get_sheet_by_index(0)\n",
    "        data = sheet.to_python()\n",
    "        \n",
    "        if not data:\n",
    "            return\n",
    "        \n",
    "        # Convert header row and data rows to strings where appropriate.\n",
    "        headers = [str(cell) for cell in data[0]]\n",
    "        # data_rows = data[1:]\n",
    "        # data_rows = [row for row in data[1:] if any(str(cell).strip() for cell in row)]\n",
    "        data_rows = [row for row in data[1:] if is_meaningful_row(row)]\n",
    "        \n",
    "    with open(output_csv_path, 'w', newline='', encoding='utf-8') as f:\n",
    "        # Build the header: first cell is left as is; subsequent cells wrapped in a single pair of double quotes.\n",
    "        header_line = \";\".join([headers[0]] + [f'\"{header}\"' for header in headers[1:]])\n",
    "        f.write(header_line + \"\\n\")\n",
    "        \n",
    "        # Process each data row.\n",
    "        for row in data_rows:\n",
    "            first_cell = row[0]\n",
    "            # Check if the first cell is a float that represents an integer.\n",
    "            if isinstance(first_cell, float) and first_cell.is_integer():\n",
    "                first_value = str(int(first_cell))\n",
    "            else:\n",
    "                first_value = str(first_cell)\n",
    "                \n",
    "            # Build the line by converting each of the other cells to strings wrapped in quotes.\n",
    "            row_line = \";\".join([first_value] + [f'\"{str(cell)}\"' for cell in row[1:]])\n",
    "            f.write(row_line + \"\\n\")\n",
    "\n",
    "# Example usage:\n",
    "# convert_excel_to_csv('input.xlsx', 'output.csv')\n",
    "convert_excel_to_csv('input.xls', 'output.csv')\n"
   ]
  },
  {
   "cell_type": "code",
   "execution_count": 25,
   "id": "ce298f7b-4434-4f85-9a1f-f1dd11fddf54",
   "metadata": {},
   "outputs": [
    {
     "name": "stdout",
     "output_type": "stream",
     "text": [
      "Processing completed in 9.63 seconds.\n"
     ]
    }
   ],
   "source": [
    "# calculate the TIME for conversion \n",
    "import python_calamine\n",
    "import time\n",
    "\n",
    "def convert_excel_to_csv(input_excel_path: str, output_csv_path: str) -> None:\n",
    "    \"\"\"\n",
    "    Converts the first sheet of an Excel file (XLS/XLSX) to a CSV file with a custom structure.\n",
    "    \n",
    "    The output CSV uses a semicolon as a delimiter. The first column is output as an integer (if applicable)\n",
    "    while every subsequent column is wrapped in double quotes exactly once.\n",
    "    \n",
    "    Additionally, the function tracks and prints the time taken to process the data.\n",
    "    \n",
    "    Args:\n",
    "        input_excel_path (str): Path to the input Excel file.\n",
    "        output_csv_path (str): Path where the output CSV file will be saved.\n",
    "    \"\"\"\n",
    "    start_time = time.time()\n",
    "    \n",
    "    with open(input_excel_path, 'rb') as excel_file:\n",
    "        workbook = python_calamine.CalamineWorkbook.from_filelike(excel_file)\n",
    "        sheet = workbook.get_sheet_by_index(0)\n",
    "        data = sheet.to_python()\n",
    "        \n",
    "        if not data:\n",
    "            print(\"No data found.\")\n",
    "            return\n",
    "        \n",
    "        # Convert header row and data rows to strings where appropriate.\n",
    "        headers = [str(cell) for cell in data[0]]\n",
    "        data_rows = data[1:]\n",
    "    \n",
    "    with open(output_csv_path, 'w', newline='', encoding='utf-8') as f:\n",
    "        # Build the header: first cell is left as is; subsequent cells wrapped in a single pair of double quotes.\n",
    "        header_line = \";\".join([headers[0]] + [f'\"{header}\"' for header in headers[1:]])\n",
    "        f.write(header_line + \"\\n\")\n",
    "        \n",
    "        # Process each data row.\n",
    "        for row in data_rows:\n",
    "            first_cell = row[0]\n",
    "            # Check if the first cell is a float that represents an integer.\n",
    "            if isinstance(first_cell, float) and first_cell.is_integer():\n",
    "                first_value = str(int(first_cell))\n",
    "            else:\n",
    "                first_value = str(first_cell)\n",
    "                \n",
    "            # Build the line by converting each of the other cells to strings wrapped in quotes.\n",
    "            row_line = \";\".join([first_value] + [f'\"{str(cell)}\"' for cell in row[1:]])\n",
    "            f.write(row_line + \"\\n\")\n",
    "    \n",
    "    end_time = time.time()\n",
    "    elapsed_time = end_time - start_time\n",
    "    print(f\"Processing completed in {elapsed_time:.2f} seconds.\")\n",
    "\n",
    "# run convertion method\n",
    "convert_excel_to_csv('input.xlsx', 'output.csv')"
   ]
  },
  {
   "cell_type": "markdown",
   "id": "f5d516c9-6c05-4f41-987a-b08ea3558c08",
   "metadata": {},
   "source": [
    "#### this is float"
   ]
  },
  {
   "cell_type": "code",
   "execution_count": 22,
   "id": "c8a900b1-3440-4180-ad24-12e4069bce75",
   "metadata": {},
   "outputs": [],
   "source": [
    "import python_calamine\n",
    "\n",
    "def convert_excel_to_csv(input_excel_path: str, output_csv_path: str) -> None:\n",
    "    \"\"\"\n",
    "    Converts the first sheet of an Excel file (XLS/XLSX) to a CSV file with a custom structure.\n",
    "    \n",
    "    The output CSV uses a semicolon as a delimiter. The first column is left as is, while every\n",
    "    subsequent column is wrapped in double quotes exactly once.\n",
    "    \n",
    "    Args:\n",
    "        input_excel_path (str): Path to the input Excel file.\n",
    "        output_csv_path (str): Path where the output CSV file will be saved.\n",
    "    \"\"\"\n",
    "    with open(input_excel_path, 'rb') as excel_file:\n",
    "        workbook = python_calamine.CalamineWorkbook.from_filelike(excel_file)\n",
    "        sheet = workbook.get_sheet_by_index(0)\n",
    "        data = sheet.to_python()\n",
    "        \n",
    "        if not data:\n",
    "            return\n",
    "        \n",
    "        # Convert header row and data rows to strings\n",
    "        headers = [str(cell) for cell in data[0]]\n",
    "        data_rows = data[1:]\n",
    "    \n",
    "    # Open the output file in write mode\n",
    "    with open(output_csv_path, 'w', newline='', encoding='utf-8') as f:\n",
    "        # Build the header: first cell as is; subsequent cells wrapped in a single pair of double quotes.\n",
    "        header_line = \";\".join([headers[0]] + [f'\"{header}\"' for header in headers[1:]])\n",
    "        f.write(header_line + \"\\n\")\n",
    "        \n",
    "        # Process each data row similarly.\n",
    "        for row in data_rows:\n",
    "            # Ensure each cell is converted to a string. The first cell remains unquoted.\n",
    "            row_line = \";\".join([str(row[0])] + [f'\"{str(cell)}\"' for cell in row[1:]])\n",
    "            f.write(row_line + \"\\n\")\n",
    "\n",
    "# Example usage:\n",
    "convert_excel_to_csv('input.xlsx', 'output.csv')\n"
   ]
  },
  {
   "cell_type": "markdown",
   "id": "0bb79439-8d08-4ef3-a965-f513ce0939e2",
   "metadata": {},
   "source": [
    "### first row have quatation"
   ]
  },
  {
   "cell_type": "code",
   "execution_count": 21,
   "id": "383f9a8a-1a3b-46a8-b78b-4b04aad54036",
   "metadata": {},
   "outputs": [],
   "source": [
    "import python_calamine\n",
    "\n",
    "def convert_excel_to_csv(input_excel_path: str, output_csv_path: str) -> None:\n",
    "    \"\"\"\n",
    "    Converts the first sheet of an Excel file (XLS/XLSX) to a CSV file with a custom structure.\n",
    "    \n",
    "    The output CSV uses a semicolon as a delimiter. All fields—including the first column—are wrapped in double quotes.\n",
    "    \n",
    "    Args:\n",
    "        input_excel_path (str): Path to the input Excel file.\n",
    "        output_csv_path (str): Path where the output CSV file will be saved.\n",
    "    \"\"\"\n",
    "    with open(input_excel_path, 'rb') as excel_file:\n",
    "        workbook = python_calamine.CalamineWorkbook.from_filelike(excel_file)\n",
    "        sheet = workbook.get_sheet_by_index(0)\n",
    "        data = sheet.to_python()\n",
    "        \n",
    "        if not data:\n",
    "            return\n",
    "        \n",
    "        # Convert header row and data rows to strings.\n",
    "        headers = [str(cell) for cell in data[0]]\n",
    "        data_rows = data[1:]\n",
    "    \n",
    "    with open(output_csv_path, 'w', newline='', encoding='utf-8') as f:\n",
    "        # Wrap every header field in quotes.\n",
    "        header_line = \";\".join([f'\"{header}\"' for header in headers])\n",
    "        f.write(header_line + \"\\n\")\n",
    "        \n",
    "        # Process each row by wrapping every field in quotes.\n",
    "        for row in data_rows:\n",
    "            row_line = \";\".join([f'\"{str(cell)}\"' for cell in row])\n",
    "            f.write(row_line + \"\\n\")\n",
    "\n",
    "# Example usage:\n",
    "convert_excel_to_csv('input.xlsx', 'output.csv')\n"
   ]
  },
  {
   "cell_type": "markdown",
   "id": "f87c403f-e539-4c9a-92fe-28d23e9d0889",
   "metadata": {},
   "source": [
    "### - load the csv to the specific path"
   ]
  },
  {
   "cell_type": "code",
   "execution_count": 27,
   "id": "ec0a95f0-2a0f-436c-b4fc-ad65f2295a7f",
   "metadata": {},
   "outputs": [],
   "source": [
    "import requests\n",
    "\n",
    "def upload_file(file_path: str, upload_url: str) -> bool:\n",
    "    \"\"\"\n",
    "    Uploads a file to the specified URL using the HTTP PUT method.\n",
    "\n",
    "    Args:\n",
    "        file_path (str): Path to the file to be uploaded.\n",
    "        upload_url (str): URL to which the file will be uploaded.\n",
    "\n",
    "    Returns:\n",
    "        bool: True if the upload was successful, False otherwise.\n",
    "    \"\"\"\n",
    "    try:\n",
    "        # Open the file in binary read mode\n",
    "        with open(file_path, 'rb') as file:\n",
    "            # Set the appropriate headers for the file upload\n",
    "            headers = {'Content-Type': 'text/csv'}\n",
    "            # Send the PUT request to upload the file\n",
    "            response = requests.put(upload_url, data=file, headers=headers)\n",
    "            # Check if the upload was successful\n",
    "            response.raise_for_status()\n",
    "        return True\n",
    "    except requests.RequestException as e:\n",
    "        print(f\"An error occurred during the file upload: {e}\")\n",
    "        return False\n"
   ]
  },
  {
   "cell_type": "code",
   "execution_count": 28,
   "id": "b58380cd-4349-4b29-ba80-e601db483ee0",
   "metadata": {},
   "outputs": [
    {
     "name": "stdout",
     "output_type": "stream",
     "text": [
      "An error occurred during the file upload: HTTPSConnectionPool(host='dev21.local.mteam-ssc.com', port=443): Max retries exceeded with url: /et_eu/price_import/output_part2.csv (Caused by SSLError(SSLCertVerificationError(1, '[SSL: CERTIFICATE_VERIFY_FAILED] certificate verify failed: unable to get local issuer certificate (_ssl.c:1108)')))\n",
      "File upload failed.\n"
     ]
    }
   ],
   "source": [
    "file_path = 'output.csv'\n",
    "upload_url = 'https://dev21.local.mteam-ssc.com/et_eu/price_import/output_part2.csv'\n",
    "\n",
    "success = upload_file(file_path, upload_url)\n",
    "if success:\n",
    "    print(\"File uploaded successfully.\")\n",
    "else:\n",
    "    print(\"File upload failed.\")\n"
   ]
  },
  {
   "cell_type": "code",
   "execution_count": null,
   "id": "9cba9bed-89b3-4bbd-a430-ac7f496f1553",
   "metadata": {},
   "outputs": [],
   "source": []
  }
 ],
 "metadata": {
  "kernelspec": {
   "display_name": "Python 3 (ipykernel)",
   "language": "python",
   "name": "python3"
  },
  "language_info": {
   "codemirror_mode": {
    "name": "ipython",
    "version": 3
   },
   "file_extension": ".py",
   "mimetype": "text/x-python",
   "name": "python",
   "nbconvert_exporter": "python",
   "pygments_lexer": "ipython3",
   "version": "3.8.3"
  }
 },
 "nbformat": 4,
 "nbformat_minor": 5
}
